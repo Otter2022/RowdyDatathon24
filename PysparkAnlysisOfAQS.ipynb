{
  "nbformat": 4,
  "nbformat_minor": 0,
  "metadata": {
    "colab": {
      "provenance": [],
      "authorship_tag": "ABX9TyO0Mo+duQAhrU3HM6on0TqP",
      "include_colab_link": true
    },
    "kernelspec": {
      "name": "python3",
      "display_name": "Python 3"
    },
    "language_info": {
      "name": "python"
    }
  },
  "cells": [
    {
      "cell_type": "markdown",
      "metadata": {
        "id": "view-in-github",
        "colab_type": "text"
      },
      "source": [
        "<a href=\"https://colab.research.google.com/github/Otter2022/RowdyDatathon24/blob/main/PysparkAnlysisOfAQS.ipynb\" target=\"_parent\"><img src=\"https://colab.research.google.com/assets/colab-badge.svg\" alt=\"Open In Colab\"/></a>"
      ]
    },
    {
      "cell_type": "code",
      "execution_count": null,
      "metadata": {
        "colab": {
          "base_uri": "https://localhost:8080/"
        },
        "id": "p6fyKGJ8FmfT",
        "outputId": "c18643c4-1e0a-433f-82f4-c8bd701c48cc"
      },
      "outputs": [
        {
          "output_type": "stream",
          "name": "stdout",
          "text": [
            "Requirement already satisfied: requests in /usr/local/lib/python3.10/dist-packages (2.32.3)\n",
            "Requirement already satisfied: pyspark in /usr/local/lib/python3.10/dist-packages (3.5.3)\n",
            "Requirement already satisfied: charset-normalizer<4,>=2 in /usr/local/lib/python3.10/dist-packages (from requests) (3.3.2)\n",
            "Requirement already satisfied: idna<4,>=2.5 in /usr/local/lib/python3.10/dist-packages (from requests) (3.10)\n",
            "Requirement already satisfied: urllib3<3,>=1.21.1 in /usr/local/lib/python3.10/dist-packages (from requests) (2.2.3)\n",
            "Requirement already satisfied: certifi>=2017.4.17 in /usr/local/lib/python3.10/dist-packages (from requests) (2024.8.30)\n",
            "Requirement already satisfied: py4j==0.10.9.7 in /usr/local/lib/python3.10/dist-packages (from pyspark) (0.10.9.7)\n"
          ]
        }
      ],
      "source": [
        "!pip install requests pyspark"
      ]
    },
    {
      "cell_type": "code",
      "source": [
        "from google.colab import drive\n",
        "drive.mount('/content/drive')"
      ],
      "metadata": {
        "colab": {
          "base_uri": "https://localhost:8080/"
        },
        "id": "YC5748aqGYmq",
        "outputId": "f96c744d-0a51-42a3-b8d4-0ce0ea10affd"
      },
      "execution_count": null,
      "outputs": [
        {
          "output_type": "stream",
          "name": "stdout",
          "text": [
            "Drive already mounted at /content/drive; to attempt to forcibly remount, call drive.mount(\"/content/drive\", force_remount=True).\n"
          ]
        }
      ]
    },
    {
      "cell_type": "code",
      "source": [
        "Path = \"\"\n",
        "\n",
        "import os\n",
        "import zipfile\n",
        "from pyspark.sql import SparkSession\n",
        "\n",
        "# Initialize Spark session\n",
        "spark = SparkSession.builder.appName(\"PM2.5 Data Unzipping and Loading\").getOrCreate()\n",
        "\n",
        "# Directory containing the zip files\n",
        "zip_dir = \"/content/drive/MyDrive/Datathon24/PM2.5data\"\n",
        "extracted_dir = \"/content/drive/MyDrive/Datathon24/PM2.5dataunzipped\"\n",
        "\n",
        "# Function to unzip files\n",
        "def unzip_files(zip_dir, extracted_dir):\n",
        "    for filename in os.listdir(zip_dir):\n",
        "        if filename.endswith(\".zip\"):\n",
        "            zip_path = os.path.join(zip_dir, filename)\n",
        "            with zipfile.ZipFile(zip_path, 'r') as zip_ref:\n",
        "                zip_ref.extractall(extracted_dir)\n",
        "                print(f\"Extracted: {filename}\")\n",
        "\n",
        "# Unzip all files in the directory\n",
        "unzip_files(zip_dir, extracted_dir)\n",
        "\n",
        "# Show the files extracted\n",
        "print(\"Extracted files:\", os.listdir(extracted_dir))\n"
      ],
      "metadata": {
        "colab": {
          "base_uri": "https://localhost:8080/"
        },
        "id": "32gFHv8fJHqb",
        "outputId": "697ae779-2123-4cc6-d217-c11f833004aa"
      },
      "execution_count": null,
      "outputs": [
        {
          "output_type": "stream",
          "name": "stdout",
          "text": [
            "Extracted: hourly_88101_2015.zip\n",
            "Extracted: hourly_88101_2014.zip\n",
            "Extracted: hourly_88101_2018.zip\n",
            "Extracted: hourly_88101_2017.zip\n",
            "Extracted: hourly_88101_2016.zip\n",
            "Extracted: hourly_88101_2022.zip\n",
            "Extracted: hourly_88101_2021.zip\n",
            "Extracted: hourly_88101_2020.zip\n",
            "Extracted: hourly_88101_2019.zip\n",
            "Extracted: hourly_88101_2024.zip\n",
            "Extracted: hourly_88101_2023.zip\n",
            "Extracted files: ['hourly_88101_2015.csv', 'hourly_88101_2014.csv', 'hourly_88101_2018.csv', 'hourly_88101_2017.csv', 'hourly_88101_2016.csv', 'hourly_88101_2022.csv', 'hourly_88101_2021.csv', 'hourly_88101_2020.csv', 'hourly_88101_2019.csv', 'hourly_88101_2024.csv', 'hourly_88101_2023.csv']\n"
          ]
        }
      ]
    },
    {
      "cell_type": "code",
      "source": [
        "# Load multiple CSV files into a single PySpark DataFrame\n",
        "def load_csv_files(extracted_dir):\n",
        "    csv_files = [os.path.join(extracted_dir, f) for f in os.listdir(extracted_dir) if f.endswith(\".csv\")]\n",
        "\n",
        "    # If there are multiple CSVs, you can load them all into one DataFrame\n",
        "    combined_df = None\n",
        "    for csv_file in csv_files:\n",
        "        df = spark.read.option(\"header\", \"true\").csv(csv_file)\n",
        "        if combined_df is None:\n",
        "            combined_df = df\n",
        "        else:\n",
        "            combined_df = combined_df.union(df)\n",
        "\n",
        "    return combined_df\n",
        "\n",
        "# Load all CSV files into a single DataFrame\n",
        "pm25_df = load_csv_files(extracted_dir)\n",
        "\n",
        "# Show the first few rows\n",
        "pm25_df.show(10)\n"
      ],
      "metadata": {
        "colab": {
          "base_uri": "https://localhost:8080/"
        },
        "id": "Y8BPu0YVMnIU",
        "outputId": "fc229a07-7459-44e4-9ca5-a31fc990bd26"
      },
      "execution_count": null,
      "outputs": [
        {
          "output_type": "stream",
          "name": "stdout",
          "text": [
            "+----------+-----------+--------+--------------+---+---------+---------+-----+--------------------+----------+----------+----------+--------+------------------+--------------------+---+-----------+---------+-----------+-----------+--------------------+----------+-----------+-------------------+\n",
            "|State Code|County Code|Site Num|Parameter Code|POC| Latitude|Longitude|Datum|      Parameter Name|Date Local|Time Local|  Date GMT|Time GMT|Sample Measurement|    Units of Measure|MDL|Uncertainty|Qualifier|Method Type|Method Code|         Method Name|State Name|County Name|Date of Last Change|\n",
            "+----------+-----------+--------+--------------+---+---------+---------+-----+--------------------+----------+----------+----------+--------+------------------+--------------------+---+-----------+---------+-----------+-----------+--------------------+----------+-----------+-------------------+\n",
            "|        01|        073|    0023|         88101|  3|33.553056|  -86.815|WGS84|PM2.5 - Local Con...|2015-01-01|     00:00|2015-01-01|   06:00|                 8|Micrograms/cubic ...|  2|       NULL|     NULL|        FEM|        183|Thermo Scientific...|   Alabama|  Jefferson|         2015-05-26|\n",
            "|        01|        073|    0023|         88101|  3|33.553056|  -86.815|WGS84|PM2.5 - Local Con...|2015-01-01|     01:00|2015-01-01|   07:00|              16.3|Micrograms/cubic ...|  2|       NULL|     NULL|        FEM|        183|Thermo Scientific...|   Alabama|  Jefferson|         2015-05-26|\n",
            "|        01|        073|    0023|         88101|  3|33.553056|  -86.815|WGS84|PM2.5 - Local Con...|2015-01-01|     02:00|2015-01-01|   08:00|              20.4|Micrograms/cubic ...|  2|       NULL|     NULL|        FEM|        183|Thermo Scientific...|   Alabama|  Jefferson|         2015-05-26|\n",
            "|        01|        073|    0023|         88101|  3|33.553056|  -86.815|WGS84|PM2.5 - Local Con...|2015-01-01|     03:00|2015-01-01|   09:00|                18|Micrograms/cubic ...|  2|       NULL|     NULL|        FEM|        183|Thermo Scientific...|   Alabama|  Jefferson|         2015-05-26|\n",
            "|        01|        073|    0023|         88101|  3|33.553056|  -86.815|WGS84|PM2.5 - Local Con...|2015-01-01|     04:00|2015-01-01|   10:00|              23.2|Micrograms/cubic ...|  2|       NULL|     NULL|        FEM|        183|Thermo Scientific...|   Alabama|  Jefferson|         2015-05-26|\n",
            "|        01|        073|    0023|         88101|  3|33.553056|  -86.815|WGS84|PM2.5 - Local Con...|2015-01-01|     05:00|2015-01-01|   11:00|              23.7|Micrograms/cubic ...|  2|       NULL|     NULL|        FEM|        183|Thermo Scientific...|   Alabama|  Jefferson|         2015-05-26|\n",
            "|        01|        073|    0023|         88101|  3|33.553056|  -86.815|WGS84|PM2.5 - Local Con...|2015-01-01|     06:00|2015-01-01|   12:00|              22.3|Micrograms/cubic ...|  2|       NULL|     NULL|        FEM|        183|Thermo Scientific...|   Alabama|  Jefferson|         2015-05-26|\n",
            "|        01|        073|    0023|         88101|  3|33.553056|  -86.815|WGS84|PM2.5 - Local Con...|2015-01-01|     07:00|2015-01-01|   13:00|              20.1|Micrograms/cubic ...|  2|       NULL|     NULL|        FEM|        183|Thermo Scientific...|   Alabama|  Jefferson|         2015-05-26|\n",
            "|        01|        073|    0023|         88101|  3|33.553056|  -86.815|WGS84|PM2.5 - Local Con...|2015-01-01|     08:00|2015-01-01|   14:00|              13.9|Micrograms/cubic ...|  2|       NULL|     NULL|        FEM|        183|Thermo Scientific...|   Alabama|  Jefferson|         2015-05-26|\n",
            "|        01|        073|    0023|         88101|  3|33.553056|  -86.815|WGS84|PM2.5 - Local Con...|2015-01-01|     09:00|2015-01-01|   15:00|              12.2|Micrograms/cubic ...|  2|       NULL|     NULL|        FEM|        183|Thermo Scientific...|   Alabama|  Jefferson|         2015-05-26|\n",
            "+----------+-----------+--------+--------------+---+---------+---------+-----+--------------------+----------+----------+----------+--------+------------------+--------------------+---+-----------+---------+-----------+-----------+--------------------+----------+-----------+-------------------+\n",
            "only showing top 10 rows\n",
            "\n"
          ]
        }
      ]
    },
    {
      "cell_type": "code",
      "source": [
        "# Save the DataFrame as a Parquet file\n",
        "pm25_df.write.mode(\"overwrite\").parquet(\"/content/drive/MyDrive/Datathon24/PM2.5_2014_2024\")\n"
      ],
      "metadata": {
        "id": "GlGNZw-sfgoJ"
      },
      "execution_count": null,
      "outputs": []
    }
  ]
}